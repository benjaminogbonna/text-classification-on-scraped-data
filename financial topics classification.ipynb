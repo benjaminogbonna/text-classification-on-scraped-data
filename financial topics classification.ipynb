{
 "cells": [
  {
   "cell_type": "markdown",
   "id": "93a075be",
   "metadata": {},
   "source": [
    "# Python Developer Assessment 2\n",
    "\n",
    "### Task: Text Classification on Scraped Data: Scrape data from a news website, preprocess the text, and use any simple machine learning model of your choice to classify the articles into categories such as crypto, stocks, or other financial topics."
   ]
  },
  {
   "cell_type": "code",
   "execution_count": 65,
   "id": "550c7e7f",
   "metadata": {},
   "outputs": [],
   "source": [
    "# Notebook Imports\n",
    "\n",
    "import nltk\n",
    "import string\n",
    "import requests\n",
    "import numpy as np\n",
    "import pandas as pd\n",
    "import seaborn as sns\n",
    "import matplotlib.pyplot as plt\n",
    "from bs4 import BeautifulSoup\n",
    "from nltk.corpus import stopwords\n",
    "from nltk.tokenize import word_tokenize\n",
    "\n",
    "from sklearn.feature_extraction.text import TfidfVectorizer\n",
    "from sklearn.model_selection import train_test_split\n",
    "from sklearn.naive_bayes import MultinomialNB\n",
    "from sklearn.metrics import classification_report"
   ]
  },
  {
   "cell_type": "markdown",
   "id": "68494346",
   "metadata": {},
   "source": [
    "### Getting, cleaning and processing the data"
   ]
  },
  {
   "cell_type": "code",
   "execution_count": 61,
   "id": "d5062b24",
   "metadata": {},
   "outputs": [
    {
     "data": {
      "text/html": [
       "<div>\n",
       "<style scoped>\n",
       "    .dataframe tbody tr th:only-of-type {\n",
       "        vertical-align: middle;\n",
       "    }\n",
       "\n",
       "    .dataframe tbody tr th {\n",
       "        vertical-align: top;\n",
       "    }\n",
       "\n",
       "    .dataframe thead th {\n",
       "        text-align: right;\n",
       "    }\n",
       "</style>\n",
       "<table border=\"1\" class=\"dataframe\">\n",
       "  <thead>\n",
       "    <tr style=\"text-align: right;\">\n",
       "      <th></th>\n",
       "      <th>Article</th>\n",
       "      <th>Category</th>\n",
       "    </tr>\n",
       "  </thead>\n",
       "  <tbody>\n",
       "    <tr>\n",
       "      <th>0</th>\n",
       "      <td>DeFi continues to disrupt traditional financia...</td>\n",
       "      <td>Crypto</td>\n",
       "    </tr>\n",
       "    <tr>\n",
       "      <th>1</th>\n",
       "      <td>Financial sector stocks gain as interest rates...</td>\n",
       "      <td>Stocks</td>\n",
       "    </tr>\n",
       "    <tr>\n",
       "      <th>2</th>\n",
       "      <td>Foreign exchange markets experience increased ...</td>\n",
       "      <td>Others</td>\n",
       "    </tr>\n",
       "    <tr>\n",
       "      <th>3</th>\n",
       "      <td>Ethereum staking rewards increase as network u...</td>\n",
       "      <td>Crypto</td>\n",
       "    </tr>\n",
       "    <tr>\n",
       "      <th>4</th>\n",
       "      <td>Retail stocks climb as consumer spending incre...</td>\n",
       "      <td>Stocks</td>\n",
       "    </tr>\n",
       "  </tbody>\n",
       "</table>\n",
       "</div>"
      ],
      "text/plain": [
       "                                             Article Category\n",
       "0  DeFi continues to disrupt traditional financia...   Crypto\n",
       "1  Financial sector stocks gain as interest rates...   Stocks\n",
       "2  Foreign exchange markets experience increased ...   Others\n",
       "3  Ethereum staking rewards increase as network u...   Crypto\n",
       "4  Retail stocks climb as consumer spending incre...   Stocks"
      ]
     },
     "execution_count": 61,
     "metadata": {},
     "output_type": "execute_result"
    }
   ],
   "source": [
    "df = pd.read_csv(\"data.csv\")\n",
    "df.head()"
   ]
  },
  {
   "cell_type": "code",
   "execution_count": 62,
   "id": "70e4587e",
   "metadata": {},
   "outputs": [
    {
     "data": {
      "text/plain": [
       "(150, 2)"
      ]
     },
     "execution_count": 62,
     "metadata": {},
     "output_type": "execute_result"
    }
   ],
   "source": [
    "df.shape"
   ]
  },
  {
   "cell_type": "code",
   "execution_count": 63,
   "id": "ba99b398",
   "metadata": {
    "scrolled": true
   },
   "outputs": [
    {
     "data": {
      "text/html": [
       "<div>\n",
       "<style scoped>\n",
       "    .dataframe tbody tr th:only-of-type {\n",
       "        vertical-align: middle;\n",
       "    }\n",
       "\n",
       "    .dataframe tbody tr th {\n",
       "        vertical-align: top;\n",
       "    }\n",
       "\n",
       "    .dataframe thead th {\n",
       "        text-align: right;\n",
       "    }\n",
       "</style>\n",
       "<table border=\"1\" class=\"dataframe\">\n",
       "  <thead>\n",
       "    <tr style=\"text-align: right;\">\n",
       "      <th></th>\n",
       "      <th>Article</th>\n",
       "      <th>Category</th>\n",
       "    </tr>\n",
       "  </thead>\n",
       "  <tbody>\n",
       "    <tr>\n",
       "      <th>0</th>\n",
       "      <td>DeFi continues to disrupt traditional financia...</td>\n",
       "      <td>0</td>\n",
       "    </tr>\n",
       "    <tr>\n",
       "      <th>1</th>\n",
       "      <td>Financial sector stocks gain as interest rates...</td>\n",
       "      <td>1</td>\n",
       "    </tr>\n",
       "    <tr>\n",
       "      <th>2</th>\n",
       "      <td>Foreign exchange markets experience increased ...</td>\n",
       "      <td>2</td>\n",
       "    </tr>\n",
       "    <tr>\n",
       "      <th>3</th>\n",
       "      <td>Ethereum staking rewards increase as network u...</td>\n",
       "      <td>0</td>\n",
       "    </tr>\n",
       "    <tr>\n",
       "      <th>4</th>\n",
       "      <td>Retail stocks climb as consumer spending incre...</td>\n",
       "      <td>1</td>\n",
       "    </tr>\n",
       "  </tbody>\n",
       "</table>\n",
       "</div>"
      ],
      "text/plain": [
       "                                             Article  Category\n",
       "0  DeFi continues to disrupt traditional financia...         0\n",
       "1  Financial sector stocks gain as interest rates...         1\n",
       "2  Foreign exchange markets experience increased ...         2\n",
       "3  Ethereum staking rewards increase as network u...         0\n",
       "4  Retail stocks climb as consumer spending incre...         1"
      ]
     },
     "execution_count": 63,
     "metadata": {},
     "output_type": "execute_result"
    }
   ],
   "source": [
    "df['Category'] = df['Category'].replace('Crypto', 0)\n",
    "\n",
    "df['Category'] = df['Category'].replace('Stocks', 1)\n",
    "\n",
    "df['Category'] = df['Category'].replace('Others', 2)\n",
    "\n",
    "df.head()"
   ]
  },
  {
   "cell_type": "code",
   "execution_count": 68,
   "id": "d15cda1c",
   "metadata": {},
   "outputs": [
    {
     "data": {
      "image/png": "[encoded data removed]",
      "text/plain": [
       "<Figure size 720x720 with 1 Axes>"
      ]
     },
     "metadata": {},
     "output_type": "display_data"
    }
   ],
   "source": [
    "colors = ['red', 'yellow', 'green']\n",
    "category_names = ['Crypto', 'Stocks', 'Others']\n",
    "sizes = [df.Category.value_counts()[0], df.Category.value_counts()[1], df.Category.value_counts()[2]]\n",
    "\n",
    "plt.figure(figsize=(10,10))\n",
    "plt.pie(sizes, labels=category_names, autopct='%1.1f%%', explode=[.03, .03, .03], colors=colors, textprops={'fontsize': 20})\n",
    "plt.show()"
   ]
  },
  {
   "cell_type": "code",
   "execution_count": 69,
   "id": "36dc6382",
   "metadata": {},
   "outputs": [],
   "source": [
    "import re\n",
    "def preprocessor(text):\n",
    "    text = re.sub('<[^>]*>', '', text)\n",
    "    emoticons = re.findall('(?::|;|=)(?:-)?(?:\\)|\\(|D|P)', text)\n",
    "    text = (re.sub('[\\W]+', ' ', text.lower()) + \n",
    "            ' '.join(emoticons).replace('-', ''))\n",
    "    return text"
   ]
  },
  {
   "cell_type": "code",
   "execution_count": 70,
   "id": "25e0070f",
   "metadata": {},
   "outputs": [
    {
     "data": {
      "text/plain": [
       "'DeFi continues to disrupt traditional financial systems'"
      ]
     },
     "execution_count": 70,
     "metadata": {},
     "output_type": "execute_result"
    }
   ],
   "source": [
    "df.loc[0, 'Article']"
   ]
  },
  {
   "cell_type": "code",
   "execution_count": 71,
   "id": "f2687385",
   "metadata": {},
   "outputs": [
    {
     "data": {
      "text/plain": [
       "'defi continues to disrupt traditional financial systems'"
      ]
     },
     "execution_count": 71,
     "metadata": {},
     "output_type": "execute_result"
    }
   ],
   "source": [
    "# after cleaning\n",
    "\n",
    "preprocessor(df.loc[0, 'Article'])"
   ]
  },
  {
   "cell_type": "code",
   "execution_count": 72,
   "id": "94052509",
   "metadata": {},
   "outputs": [],
   "source": [
    "# applying the preprocessor to our data\n",
    "\n",
    "df['Article'] = df['Article'].apply(preprocessor)"
   ]
  },
  {
   "cell_type": "code",
   "execution_count": 73,
   "id": "04befe1b",
   "metadata": {},
   "outputs": [
    {
     "data": {
      "text/plain": [
       "['runners', 'like', 'running', 'and', 'thus', 'they', 'run']"
      ]
     },
     "execution_count": 73,
     "metadata": {},
     "output_type": "execute_result"
    }
   ],
   "source": [
    "def tokenizer(text):\n",
    "    return text.split()\n",
    "\n",
    "tokenizer('runners like running and thus they run')"
   ]
  },
  {
   "cell_type": "code",
   "execution_count": 74,
   "id": "615b4411",
   "metadata": {},
   "outputs": [
    {
     "data": {
      "text/plain": [
       "['runner', 'like', 'run', 'and', 'thu', 'they', 'run']"
      ]
     },
     "execution_count": 74,
     "metadata": {},
     "output_type": "execute_result"
    }
   ],
   "source": [
    "from nltk.stem.porter import PorterStemmer\n",
    "\n",
    "porter = PorterStemmer()\n",
    "\n",
    "def tokenizer_porter(text):\n",
    "    return [porter.stem(word) for word in text.split()]\n",
    "\n",
    "tokenizer_porter('runners like running and thus they run')"
   ]
  },
  {
   "cell_type": "code",
   "execution_count": 75,
   "id": "f7652b79",
   "metadata": {},
   "outputs": [
    {
     "data": {
      "text/plain": [
       "['runner', 'like', 'run', 'run', 'lot']"
      ]
     },
     "execution_count": 75,
     "metadata": {},
     "output_type": "execute_result"
    }
   ],
   "source": [
    "stop = stopwords.words('english')\n",
    "[w for w in tokenizer_porter('a runner likes running and runs a lot')[-10:] if w not in stop]"
   ]
  },
  {
   "cell_type": "code",
   "execution_count": 76,
   "id": "55494abc",
   "metadata": {},
   "outputs": [],
   "source": [
    "stop = stopwords.words('english')\n",
    "\n",
    "def tokenizer(text):\n",
    "    text = re.sub('<[^>]*>', '', text)\n",
    "    emoticons = re.findall('(?::|;|=)(?:-)?(?:\\)|\\(|D|P)', text.lower())\n",
    "    text = re.sub('[\\W]+', ' ', text.lower()) +\\\n",
    "        ' '.join(emoticons).replace('-', '')\n",
    "    tokenized = [w for w in text.split() if w not in stop]\n",
    "    return tokenized"
   ]
  },
  {
   "cell_type": "code",
   "execution_count": 77,
   "id": "0435d14b",
   "metadata": {},
   "outputs": [],
   "source": [
    "def stream_docs(path):\n",
    "    with open(path, 'r', encoding='utf-8') as csv:\n",
    "        next(csv) # skip header\n",
    "        for line in csv:\n",
    "            text, label = line[:-3], int(line[-2])\n",
    "            yield text, label"
   ]
  },
  {
   "cell_type": "code",
   "execution_count": 80,
   "id": "f35a00c8",
   "metadata": {
    "collapsed": true
   },
   "outputs": [
    {
     "ename": "ValueError",
     "evalue": "invalid literal for int() with base 10: 'o'",
     "output_type": "error",
     "traceback": [
      "\u001b[1;31m---------------------------------------------------------------------------\u001b[0m",
      "\u001b[1;31mValueError\u001b[0m                                Traceback (most recent call last)",
      "\u001b[1;32m<ipython-input-80-ff7f8fc9573b>\u001b[0m in \u001b[0;36m<module>\u001b[1;34m\u001b[0m\n\u001b[1;32m----> 1\u001b[1;33m \u001b[0mnext\u001b[0m\u001b[1;33m(\u001b[0m\u001b[0mstream_docs\u001b[0m\u001b[1;33m(\u001b[0m\u001b[0mpath\u001b[0m\u001b[1;33m=\u001b[0m\u001b[1;34m'data.csv'\u001b[0m\u001b[1;33m)\u001b[0m\u001b[1;33m)\u001b[0m\u001b[1;33m\u001b[0m\u001b[1;33m\u001b[0m\u001b[0m\n\u001b[0m",
      "\u001b[1;32m<ipython-input-77-0a9964bd2779>\u001b[0m in \u001b[0;36mstream_docs\u001b[1;34m(path)\u001b[0m\n\u001b[0;32m      3\u001b[0m         \u001b[0mnext\u001b[0m\u001b[1;33m(\u001b[0m\u001b[0mcsv\u001b[0m\u001b[1;33m)\u001b[0m \u001b[1;31m# skip header\u001b[0m\u001b[1;33m\u001b[0m\u001b[1;33m\u001b[0m\u001b[0m\n\u001b[0;32m      4\u001b[0m         \u001b[1;32mfor\u001b[0m \u001b[0mline\u001b[0m \u001b[1;32min\u001b[0m \u001b[0mcsv\u001b[0m\u001b[1;33m:\u001b[0m\u001b[1;33m\u001b[0m\u001b[1;33m\u001b[0m\u001b[0m\n\u001b[1;32m----> 5\u001b[1;33m             \u001b[0mtext\u001b[0m\u001b[1;33m,\u001b[0m \u001b[0mlabel\u001b[0m \u001b[1;33m=\u001b[0m \u001b[0mline\u001b[0m\u001b[1;33m[\u001b[0m\u001b[1;33m:\u001b[0m\u001b[1;33m-\u001b[0m\u001b[1;36m3\u001b[0m\u001b[1;33m]\u001b[0m\u001b[1;33m,\u001b[0m \u001b[0mint\u001b[0m\u001b[1;33m(\u001b[0m\u001b[0mline\u001b[0m\u001b[1;33m[\u001b[0m\u001b[1;33m-\u001b[0m\u001b[1;36m2\u001b[0m\u001b[1;33m]\u001b[0m\u001b[1;33m)\u001b[0m\u001b[1;33m\u001b[0m\u001b[1;33m\u001b[0m\u001b[0m\n\u001b[0m\u001b[0;32m      6\u001b[0m             \u001b[1;32myield\u001b[0m \u001b[0mtext\u001b[0m\u001b[1;33m,\u001b[0m \u001b[0mlabel\u001b[0m\u001b[1;33m\u001b[0m\u001b[1;33m\u001b[0m\u001b[0m\n",
      "\u001b[1;31mValueError\u001b[0m: invalid literal for int() with base 10: 'o'"
     ]
    }
   ],
   "source": [
    "next(stream_docs(path='data.csv'))"
   ]
  },
  {
   "cell_type": "code",
   "execution_count": 79,
   "id": "f075736d",
   "metadata": {},
   "outputs": [],
   "source": [
    "from sklearn.feature_extraction.text import HashingVectorizer\n",
    "# from distutils.version import LooseVersion as Version\n",
    "# from sklearn import __version__ as sklearn_version\n",
    "\n",
    "\n",
    "vect = HashingVectorizer(decode_error='ignore',\n",
    "                         n_features=2**21,\n",
    "                         preprocessor=None,\n",
    "                         tokenizer=tokenizer\n",
    "                        )\n",
    "doc_stream = stream_docs(path='data.csv')"
   ]
  },
  {
   "cell_type": "code",
   "execution_count": 81,
   "id": "c1affd1e",
   "metadata": {},
   "outputs": [],
   "source": [
    "X, y = df.Article, df.Category\n",
    "X_train, X_test, y_train, y_test = train_test_split(X, y, test_size=.3, random_state=42)"
   ]
  },
  {
   "cell_type": "code",
   "execution_count": 82,
   "id": "b710a1b4",
   "metadata": {
    "scrolled": true
   },
   "outputs": [
    {
     "name": "stderr",
     "output_type": "stream",
     "text": [
      "C:\\Users\\Ben\\anaconda3\\lib\\site-packages\\sklearn\\feature_extraction\\text.py:489: UserWarning: The parameter 'token_pattern' will not be used since 'tokenizer' is not None'\n",
      "  warnings.warn(\"The parameter 'token_pattern' will not be used\"\n"
     ]
    }
   ],
   "source": [
    "X_train = vect.fit_transform(X_train)"
   ]
  },
  {
   "cell_type": "code",
   "execution_count": 83,
   "id": "600f9a13",
   "metadata": {},
   "outputs": [],
   "source": [
    "X_test = vect.transform(X_test)"
   ]
  },
  {
   "cell_type": "code",
   "execution_count": 84,
   "id": "102183cc",
   "metadata": {},
   "outputs": [
    {
     "data": {
      "text/plain": [
       "KNeighborsClassifier()"
      ]
     },
     "execution_count": 84,
     "metadata": {},
     "output_type": "execute_result"
    }
   ],
   "source": [
    "# KNN\n",
    "\n",
    "from sklearn.neighbors import KNeighborsClassifier as KNN\n",
    "knn_clf = KNN()\n",
    "\n",
    "knn_clf.fit(X_train, y_train)"
   ]
  },
  {
   "cell_type": "code",
   "execution_count": 85,
   "id": "38501e80",
   "metadata": {},
   "outputs": [],
   "source": [
    "y_pred = knn_clf.predict(X_test)"
   ]
  },
  {
   "cell_type": "code",
   "execution_count": 86,
   "id": "02ced2c5",
   "metadata": {},
   "outputs": [
    {
     "name": "stdout",
     "output_type": "stream",
     "text": [
      "Accuracy: 0.889\n"
     ]
    }
   ],
   "source": [
    "print('Accuracy: %.3f' % knn_clf.score(X_test, y_test))"
   ]
  },
  {
   "cell_type": "code",
   "execution_count": 87,
   "id": "8bcc960b",
   "metadata": {},
   "outputs": [
    {
     "name": "stdout",
     "output_type": "stream",
     "text": [
      "Accuracy: 0.8888888888888888\n",
      "Recall: 0.8888888888888888\n",
      "Precision: 0.8888888888888888\n",
      "F1_score: 0.8888888888888888\n"
     ]
    }
   ],
   "source": [
    "# Checking the accuracy of our KNN\n",
    "from sklearn.metrics import f1_score, recall_score, precision_score, accuracy_score\n",
    "\n",
    "print(f'Accuracy: {accuracy_score(y_test, y_pred)}')\n",
    "print(f\"Recall: {recall_score(y_test, y_pred, average='micro')}\")\n",
    "print(f\"Precision: {precision_score(y_test, y_pred, average='micro')}\")\n",
    "print(f\"F1_score: {f1_score(y_test, y_pred, average='micro')}\")"
   ]
  },
  {
   "cell_type": "code",
   "execution_count": 88,
   "id": "dfeb8f31",
   "metadata": {},
   "outputs": [
    {
     "data": {
      "text/plain": [
       "<AxesSubplot:>"
      ]
     },
     "execution_count": 88,
     "metadata": {},
     "output_type": "execute_result"
    },
    {
     "data": {
      "image/png": "[encoded data removed]",
      "text/plain": [
       "<Figure size 432x288 with 1 Axes>"
      ]
     },
     "metadata": {
      "needs_background": "light"
     },
     "output_type": "display_data"
    }
   ],
   "source": [
    "from sklearn.metrics import confusion_matrix\n",
    "conf_mat = confusion_matrix(y_test, y_pred)\n",
    "sns.heatmap(conf_mat, square=True, annot=True, cmap='Blues', fmt='d', cbar=False)"
   ]
  },
  {
   "cell_type": "code",
   "execution_count": 93,
   "id": "b6e41b7a",
   "metadata": {},
   "outputs": [
    {
     "name": "stdout",
     "output_type": "stream",
     "text": [
      "Prediction: Stocks\n",
      "Probability: 100.00%\n"
     ]
    }
   ],
   "source": [
    "label = {\n",
    "    0: 'Crypto',\n",
    "    1: 'Stocks', \n",
    "    2: 'Others'    \n",
    "}\n",
    "\n",
    "example = [\"Healthcare stocks rebound after sector slump\"]\n",
    "X = vect.transform(example)\n",
    "print('Prediction: %s\\nProbability: %.2f%%' %\\\n",
    "      (label[knn_clf.predict(X)[0]], \n",
    "       np.max(knn_clf.predict_proba(X))*100))"
   ]
  },
  {
   "cell_type": "code",
   "execution_count": 94,
   "id": "6ff1c4f7",
   "metadata": {},
   "outputs": [
    {
     "data": {
      "text/plain": [
       "SVC()"
      ]
     },
     "execution_count": 94,
     "metadata": {},
     "output_type": "execute_result"
    }
   ],
   "source": [
    "from sklearn.svm import SVC\n",
    "svm_clf = SVC()\n",
    "\n",
    "svm_clf.fit(X_train, y_train)"
   ]
  },
  {
   "cell_type": "code",
   "execution_count": 95,
   "id": "df5f76d3",
   "metadata": {},
   "outputs": [
    {
     "name": "stdout",
     "output_type": "stream",
     "text": [
      "Accuracy: 0.9111111111111111\n",
      "Recall: 0.9111111111111111\n",
      "Precision: 0.9111111111111111\n",
      "F1_score: 0.9111111111111111\n"
     ]
    }
   ],
   "source": [
    "y_pred = svm_clf.predict(X_test)\n",
    "\n",
    "print(f'Accuracy: {accuracy_score(y_test, y_pred)}')\n",
    "print(f\"Recall: {recall_score(y_test, y_pred, average='micro')}\")\n",
    "print(f\"Precision: {precision_score(y_test, y_pred, average='micro')}\")\n",
    "print(f\"F1_score: {f1_score(y_test, y_pred, average='micro')}\")"
   ]
  },
  {
   "cell_type": "code",
   "execution_count": 99,
   "id": "66725f08",
   "metadata": {},
   "outputs": [
    {
     "name": "stdout",
     "output_type": "stream",
     "text": [
      "Prediction: Stocks\n"
     ]
    }
   ],
   "source": [
    "label = {\n",
    "    0: 'Crypto',\n",
    "    1: 'Stocks', \n",
    "    2: 'Others'    \n",
    "}\n",
    "\n",
    "example = [\"Healthcare stocks rebound after sector slump\"]\n",
    "X = vect.transform(example)\n",
    "print(f'Prediction: {label[svm_clf.predict(X)[0]]}' )"
   ]
  },
  {
   "cell_type": "code",
   "execution_count": 100,
   "id": "398bdf2e",
   "metadata": {},
   "outputs": [
    {
     "data": {
      "text/plain": [
       "DecisionTreeClassifier()"
      ]
     },
     "execution_count": 100,
     "metadata": {},
     "output_type": "execute_result"
    }
   ],
   "source": [
    "from sklearn.tree import DecisionTreeClassifier\n",
    "tree_clf = DecisionTreeClassifier()\n",
    "\n",
    "tree_clf.fit(X_train, y_train)"
   ]
  },
  {
   "cell_type": "code",
   "execution_count": 101,
   "id": "964f3d7c",
   "metadata": {},
   "outputs": [
    {
     "name": "stdout",
     "output_type": "stream",
     "text": [
      "Accuracy: 0.9555555555555556\n",
      "Recall: 0.9555555555555556\n",
      "Precision: 0.9555555555555556\n",
      "F1_score: 0.9555555555555556\n"
     ]
    }
   ],
   "source": [
    "y_pred = tree_clf.predict(X_test)\n",
    "\n",
    "print(f'Accuracy: {accuracy_score(y_test, y_pred)}')\n",
    "print(f\"Recall: {recall_score(y_test, y_pred, average='micro')}\")\n",
    "print(f\"Precision: {precision_score(y_test, y_pred, average='micro')}\")\n",
    "print(f\"F1_score: {f1_score(y_test, y_pred, average='micro')}\")"
   ]
  },
  {
   "cell_type": "code",
   "execution_count": 102,
   "id": "4d8636f7",
   "metadata": {
    "scrolled": true
   },
   "outputs": [
    {
     "name": "stdout",
     "output_type": "stream",
     "text": [
      "Prediction: Stocks\n",
      "Probability: 100.00%\n"
     ]
    }
   ],
   "source": [
    "label = {\n",
    "    0: 'Crypto',\n",
    "    1: 'Stocks', \n",
    "    2: 'Others'    \n",
    "}\n",
    "\n",
    "example = [\"Healthcare stocks rebound after sector slump\"]\n",
    "X = vect.transform(example)\n",
    "print('Prediction: %s\\nProbability: %.2f%%' %\\\n",
    "      (label[tree_clf.predict(X)[0]], \n",
    "       np.max(tree_clf.predict_proba(X))*100))"
   ]
  },
  {
   "cell_type": "code",
   "execution_count": 103,
   "id": "89f1ef2f",
   "metadata": {},
   "outputs": [
    {
     "data": {
      "text/plain": [
       "VotingClassifier(estimators=[('knn_clf', KNeighborsClassifier()),\n",
       "                             ('tree_clf', DecisionTreeClassifier()),\n",
       "                             ('svm', SVC())])"
      ]
     },
     "execution_count": 103,
     "metadata": {},
     "output_type": "execute_result"
    }
   ],
   "source": [
    "# combining our models\n",
    "from sklearn.ensemble import VotingClassifier\n",
    "\n",
    "ensemble_classifier = VotingClassifier(\n",
    "    estimators=[('knn_clf', knn_clf),\n",
    "                ('tree_clf', tree_clf),\n",
    "                ('svm', svm_clf)],\n",
    "    voting='hard')\n",
    "\n",
    "ensemble_classifier.fit(X_train, y_train)"
   ]
  },
  {
   "cell_type": "code",
   "execution_count": 104,
   "id": "4c6bfefc",
   "metadata": {},
   "outputs": [
    {
     "data": {
      "text/plain": [
       "1.0"
      ]
     },
     "execution_count": 104,
     "metadata": {},
     "output_type": "execute_result"
    }
   ],
   "source": [
    "ensemble_classifier.score(X_train, y_train)"
   ]
  },
  {
   "cell_type": "code",
   "execution_count": 105,
   "id": "d31dd868",
   "metadata": {
    "scrolled": true
   },
   "outputs": [
    {
     "name": "stdout",
     "output_type": "stream",
     "text": [
      "Prediction: Stocks\n"
     ]
    }
   ],
   "source": [
    "label = {\n",
    "    0: 'Crypto',\n",
    "    1: 'Stocks', \n",
    "    2: 'Others'    \n",
    "}\n",
    "\n",
    "example = [\"Healthcare stocks rebound after sector slump\"]\n",
    "X = vect.transform(example)\n",
    "print(f'Prediction: {label[ensemble_classifier.predict(X)[0]]}' )"
   ]
  },
  {
   "cell_type": "code",
   "execution_count": 106,
   "id": "7cb3d4f1",
   "metadata": {},
   "outputs": [
    {
     "data": {
      "text/plain": [
       "['ensemble_classifier.joblib']"
      ]
     },
     "execution_count": 106,
     "metadata": {},
     "output_type": "execute_result"
    }
   ],
   "source": [
    "import joblib\n",
    "joblib.dump(knn_clf,'knn.joblib')\n",
    "joblib.dump(svm_clf,'svm.joblib')\n",
    "joblib.dump(tree_clf,'tree.joblib')\n",
    "joblib.dump(ensemble_classifier, 'ensemble_classifier.joblib')"
   ]
  },
  {
   "cell_type": "code",
   "execution_count": null,
   "id": "51cd2a17",
   "metadata": {},
   "outputs": [],
   "source": []
  },
  {
   "cell_type": "code",
   "execution_count": 49,
   "id": "85c55906",
   "metadata": {},
   "outputs": [],
   "source": [
    "def news_scrapeper(url):\n",
    "    response = requests.get(url)\n",
    "    soup = BeautifulSoup(response.content, 'html.parser')\n",
    "\n",
    "    articles = []\n",
    "    headline, body = '', ''\n",
    "    for article in soup.find_all('div'):\n",
    "        if article.find('h2') != None:\n",
    "            headline = article.find('h2').get_text(strip=True)\n",
    "        if article.find('p') != None:\n",
    "            body = article.find('p').get_text(strip=True)\n",
    "        articles.append(headline + \" \" + body)\n",
    "        \n",
    "    return articles"
   ]
  },
  {
   "cell_type": "code",
   "execution_count": 50,
   "id": "02dd6572",
   "metadata": {
    "collapsed": true
   },
   "outputs": [
    {
     "name": "stdout",
     "output_type": "stream",
     "text": [
      "Article 1:\n",
      " \n",
      "\n",
      "Article 2:\n",
      " \n",
      "\n",
      "Article 3:\n",
      " \n",
      "\n",
      "Article 4:\n",
      " \n",
      "\n",
      "Article 5:\n",
      " \n",
      "\n",
      "Article 6:\n",
      " \n",
      "\n",
      "Article 7:\n",
      " \n",
      "\n",
      "Article 8:\n",
      " \n",
      "\n",
      "Article 9:\n",
      " \n",
      "\n",
      "Article 10:\n",
      " \n",
      "\n",
      "Article 11:\n",
      " \n",
      "\n",
      "Article 12:\n",
      " \n",
      "\n",
      "Article 13:\n",
      " \n",
      "\n",
      "Article 14:\n",
      " \n",
      "\n",
      "Article 15:\n",
      " \n",
      "\n",
      "Article 16:\n",
      " \n",
      "\n",
      "Article 17:\n",
      " \n",
      "\n",
      "Article 18:\n",
      "Nigeria: MPR Hike Drives Bearish Sentiments in Equity Market Bearish sentiments resurfaced in the Nigerian stock market, as investors reacted to the hike in the Central Bank of Nigeria, CBN's Monetary Policy Rate, MPR, which is the benchmark interest rate for lending by banks and other financial institutions.\n",
      "\n",
      "Article 19:\n",
      "Nigeria: MPR Hike Drives Bearish Sentiments in Equity Market Bearish sentiments resurfaced in the Nigerian stock market, as investors reacted to the hike in the Central Bank of Nigeria, CBN's Monetary Policy Rate, MPR, which is the benchmark interest rate for lending by banks and other financial institutions.\n",
      "\n",
      "Article 20:\n",
      "Nigeria: MPR Hike Drives Bearish Sentiments in Equity Market Bearish sentiments resurfaced in the Nigerian stock market, as investors reacted to the hike in the Central Bank of Nigeria, CBN's Monetary Policy Rate, MPR, which is the benchmark interest rate for lending by banks and other financial institutions.\n",
      "\n",
      "Article 21:\n",
      "Nigeria: MPR Hike Drives Bearish Sentiments in Equity Market Bearish sentiments resurfaced in the Nigerian stock market, as investors reacted to the hike in the Central Bank of Nigeria, CBN's Monetary Policy Rate, MPR, which is the benchmark interest rate for lending by banks and other financial institutions.\n",
      "\n",
      "Article 22:\n",
      "Nigeria: MPR Hike Drives Bearish Sentiments in Equity Market Bearish sentiments resurfaced in the Nigerian stock market, as investors reacted to the hike in the Central Bank of Nigeria, CBN's Monetary Policy Rate, MPR, which is the benchmark interest rate for lending by banks and other financial institutions.\n",
      "\n",
      "Article 23:\n",
      "Nigeria: MPR Hike Drives Bearish Sentiments in Equity Market Bearish sentiments resurfaced in the Nigerian stock market, as investors reacted to the hike in the Central Bank of Nigeria, CBN's Monetary Policy Rate, MPR, which is the benchmark interest rate for lending by banks and other financial institutions.\n",
      "\n",
      "Article 24:\n",
      "Nigeria: MPR Hike Drives Bearish Sentiments in Equity Market Bearish sentiments resurfaced in the Nigerian stock market, as investors reacted to the hike in the Central Bank of Nigeria, CBN's Monetary Policy Rate, MPR, which is the benchmark interest rate for lending by banks and other financial institutions.\n",
      "\n",
      "Article 25:\n",
      "Nigeria: MPR Hike Drives Bearish Sentiments in Equity Market Bearish sentiments resurfaced in the Nigerian stock market, as investors reacted to the hike in the Central Bank of Nigeria, CBN's Monetary Policy Rate, MPR, which is the benchmark interest rate for lending by banks and other financial institutions.\n",
      "\n",
      "Article 26:\n",
      "Nigeria: MPR Hike Drives Bearish Sentiments in Equity Market Bearish sentiments resurfaced in the Nigerian stock market, as investors reacted to the hike in the Central Bank of Nigeria, CBN's Monetary Policy Rate, MPR, which is the benchmark interest rate for lending by banks and other financial institutions.\n",
      "\n",
      "Article 27:\n",
      "Nigeria: MPR Hike Drives Bearish Sentiments in Equity Market Bearish sentiments resurfaced in the Nigerian stock market, as investors reacted to the hike in the Central Bank of Nigeria, CBN's Monetary Policy Rate, MPR, which is the benchmark interest rate for lending by banks and other financial institutions.\n",
      "\n",
      "Article 28:\n",
      "Nigeria: MPR Hike Drives Bearish Sentiments in Equity Market Bearish sentiments resurfaced in the Nigerian stock market, as investors reacted to the hike in the Central Bank of Nigeria, CBN's Monetary Policy Rate, MPR, which is the benchmark interest rate for lending by banks and other financial institutions.\n",
      "\n",
      "Article 29:\n",
      "Nigeria: MPR Hike Drives Bearish Sentiments in Equity Market Bearish sentiments resurfaced in the Nigerian stock market, as investors reacted to the hike in the Central Bank of Nigeria, CBN's Monetary Policy Rate, MPR, which is the benchmark interest rate for lending by banks and other financial institutions.\n",
      "\n",
      "Article 30:\n",
      "Nigeria: MPR Hike Drives Bearish Sentiments in Equity Market Bearish sentiments resurfaced in the Nigerian stock market, as investors reacted to the hike in the Central Bank of Nigeria, CBN's Monetary Policy Rate, MPR, which is the benchmark interest rate for lending by banks and other financial institutions.\n",
      "\n",
      "Article 31:\n",
      "Nigeria: MPR Hike Drives Bearish Sentiments in Equity Market Bearish sentiments resurfaced in the Nigerian stock market, as investors reacted to the hike in the Central Bank of Nigeria, CBN's Monetary Policy Rate, MPR, which is the benchmark interest rate for lending by banks and other financial institutions.\n",
      "\n",
      "Article 32:\n",
      "Nigeria: MPR Hike Drives Bearish Sentiments in Equity Market Bearish sentiments resurfaced in the Nigerian stock market, as investors reacted to the hike in the Central Bank of Nigeria, CBN's Monetary Policy Rate, MPR, which is the benchmark interest rate for lending by banks and other financial institutions.\n",
      "\n",
      "Article 33:\n",
      "Nigeria: MPR Hike Drives Bearish Sentiments in Equity Market Bearish sentiments resurfaced in the Nigerian stock market, as investors reacted to the hike in the Central Bank of Nigeria, CBN's Monetary Policy Rate, MPR, which is the benchmark interest rate for lending by banks and other financial institutions.\n",
      "\n",
      "Article 34:\n",
      "Nigeria: MPR Hike Drives Bearish Sentiments in Equity Market Read theoriginal articleonVanguard.\n",
      "\n",
      "Article 35:\n",
      "Nigeria: MPR Hike Drives Bearish Sentiments in Equity Market Read theoriginal articleonVanguard.\n",
      "\n",
      "Article 36:\n",
      "Nigeria: MPR Hike Drives Bearish Sentiments in Equity Market Read theoriginal articleonVanguard.\n",
      "\n",
      "Article 37:\n",
      "Nigeria: MPR Hike Drives Bearish Sentiments in Equity Market Read theoriginal articleonVanguard.\n",
      "\n",
      "Article 38:\n",
      "Nigeria: MPR Hike Drives Bearish Sentiments in Equity Market Read theoriginal articleonVanguard.\n",
      "\n",
      "Article 39:\n",
      "Nigeria: MPR Hike Drives Bearish Sentiments in Equity Market Read theoriginal articleonVanguard.\n",
      "\n",
      "Article 40:\n",
      "Nigeria: MPR Hike Drives Bearish Sentiments in Equity Market Read theoriginal articleonVanguard.\n",
      "\n",
      "Article 41:\n",
      "Nigeria: MPR Hike Drives Bearish Sentiments in Equity Market Read theoriginal articleonVanguard.\n",
      "\n",
      "Article 42:\n",
      "Nigeria: MPR Hike Drives Bearish Sentiments in Equity Market Read theoriginal articleonVanguard.\n",
      "\n",
      "Article 43:\n",
      "Nigeria: MPR Hike Drives Bearish Sentiments in Equity Market Read theoriginal articleonVanguard.\n",
      "\n",
      "Article 44:\n",
      "Nigeria: MPR Hike Drives Bearish Sentiments in Equity Market Read theoriginal articleonVanguard.\n",
      "\n",
      "Article 45:\n",
      "Nigeria: MPR Hike Drives Bearish Sentiments in Equity Market Read theoriginal articleonVanguard.\n",
      "\n",
      "Article 46:\n",
      "Nigeria: MPR Hike Drives Bearish Sentiments in Equity Market Read theoriginal articleonVanguard.\n",
      "\n",
      "Article 47:\n",
      "Nigeria: MPR Hike Drives Bearish Sentiments in Equity Market Read theoriginal articleonVanguard.\n",
      "\n",
      "Article 48:\n",
      "Nigeria: MPR Hike Drives Bearish Sentiments in Equity Market Read theoriginal articleonVanguard.\n",
      "\n",
      "Article 49:\n",
      "Nigeria: MPR Hike Drives Bearish Sentiments in Equity Market Read theoriginal articleonVanguard.\n",
      "\n",
      "Article 50:\n",
      "Nigeria: MPR Hike Drives Bearish Sentiments in Equity Market Read theoriginal articleonVanguard.\n",
      "\n",
      "Article 51:\n",
      "Nigeria: MPR Hike Drives Bearish Sentiments in Equity Market Read theoriginal articleonVanguard.\n",
      "\n",
      "Article 52:\n",
      "Nigeria: MPR Hike Drives Bearish Sentiments in Equity Market Read theoriginal articleonVanguard.\n",
      "\n",
      "Article 53:\n",
      "Nigeria: MPR Hike Drives Bearish Sentiments in Equity Market Read theoriginal articleonVanguard.\n",
      "\n",
      "Article 54:\n",
      "Nigeria: MPR Hike Drives Bearish Sentiments in Equity Market Read theoriginal articleonVanguard.\n",
      "\n",
      "Article 55:\n",
      "Nigeria: MPR Hike Drives Bearish Sentiments in Equity Market Read theoriginal articleonVanguard.\n",
      "\n",
      "Article 56:\n",
      "Nigeria: MPR Hike Drives Bearish Sentiments in Equity Market Read theoriginal articleonVanguard.\n",
      "\n",
      "Article 57:\n",
      "Nigeria: MPR Hike Drives Bearish Sentiments in Equity Market Read theoriginal articleonVanguard.\n",
      "\n",
      "Article 58:\n",
      "Nigeria: MPR Hike Drives Bearish Sentiments in Equity Market Read theoriginal articleonVanguard.\n",
      "\n",
      "Article 59:\n",
      "Nigeria: MPR Hike Drives Bearish Sentiments in Equity Market AllAfrica publishes around 500 reports a day from more than100 news organizationsand over500 other institutions and individuals, representing a diversity of positions on every topic. We publish news and views ranging from vigorous opponents of governments to government publications and spokespersons. Publishers named above each report are responsible for their own content, which AllAfrica does not have the legal right to edit or correct.\n",
      "\n",
      "Article 60:\n",
      "Nigeria: MPR Hike Drives Bearish Sentiments in Equity Market AllAfrica publishes around 500 reports a day from more than100 news organizationsand over500 other institutions and individuals, representing a diversity of positions on every topic. We publish news and views ranging from vigorous opponents of governments to government publications and spokespersons. Publishers named above each report are responsible for their own content, which AllAfrica does not have the legal right to edit or correct.\n",
      "\n",
      "Article 61:\n",
      "Nigeria: MPR Hike Drives Bearish Sentiments in Equity Market AllAfrica publishes around 500 reports a day from more than100 news organizationsand over500 other institutions and individuals, representing a diversity of positions on every topic. We publish news and views ranging from vigorous opponents of governments to government publications and spokespersons. Publishers named above each report are responsible for their own content, which AllAfrica does not have the legal right to edit or correct.\n",
      "\n",
      "Article 62:\n",
      "Nigeria: MPR Hike Drives Bearish Sentiments in Equity Market AllAfrica publishes around 500 reports a day from more than100 news organizationsand over500 other institutions and individuals, representing a diversity of positions on every topic. We publish news and views ranging from vigorous opponents of governments to government publications and spokespersons. Publishers named above each report are responsible for their own content, which AllAfrica does not have the legal right to edit or correct.\n",
      "\n",
      "Article 63:\n",
      "Nigeria: MPR Hike Drives Bearish Sentiments in Equity Market AllAfrica publishes around 500 reports a day from more than100 news organizationsand over500 other institutions and individuals, representing a diversity of positions on every topic. We publish news and views ranging from vigorous opponents of governments to government publications and spokespersons. Publishers named above each report are responsible for their own content, which AllAfrica does not have the legal right to edit or correct.\n",
      "\n",
      "Article 64:\n",
      "Nigeria: MPR Hike Drives Bearish Sentiments in Equity Market AllAfrica publishes around 500 reports a day from more than100 news organizationsand over500 other institutions and individuals, representing a diversity of positions on every topic. We publish news and views ranging from vigorous opponents of governments to government publications and spokespersons. Publishers named above each report are responsible for their own content, which AllAfrica does not have the legal right to edit or correct.\n",
      "\n",
      "Article 65:\n",
      "Nigeria: MPR Hike Drives Bearish Sentiments in Equity Market AllAfrica publishes around 500 reports a day from more than100 news organizationsand over500 other institutions and individuals, representing a diversity of positions on every topic. We publish news and views ranging from vigorous opponents of governments to government publications and spokespersons. Publishers named above each report are responsible for their own content, which AllAfrica does not have the legal right to edit or correct.\n",
      "\n",
      "Article 66:\n",
      "Nigeria: MPR Hike Drives Bearish Sentiments in Equity Market AllAfrica is a voice of, by and about Africa - aggregating, producing and distributing 500 news and information items daily from over 100 African news organizations and our own reporters to an African and global public. We operate from Cape Town, Dakar, Abuja, Johannesburg, Nairobi and Washington DC.\n",
      "\n",
      "Article 67:\n",
      "Nigeria: MPR Hike Drives Bearish Sentiments in Equity Market AllAfrica is a voice of, by and about Africa - aggregating, producing and distributing 500 news and information items daily from over 100 African news organizations and our own reporters to an African and global public. We operate from Cape Town, Dakar, Abuja, Johannesburg, Nairobi and Washington DC.\n",
      "\n",
      "Article 68:\n",
      "Nigeria: MPR Hike Drives Bearish Sentiments in Equity Market AllAfrica is a voice of, by and about Africa - aggregating, producing and distributing 500 news and information items daily from over 100 African news organizations and our own reporters to an African and global public. We operate from Cape Town, Dakar, Abuja, Johannesburg, Nairobi and Washington DC.\n",
      "\n",
      "Article 69:\n",
      "Nigeria: MPR Hike Drives Bearish Sentiments in Equity Market AllAfrica is a voice of, by and about Africa - aggregating, producing and distributing 500 news and information items daily from over 100 African news organizations and our own reporters to an African and global public. We operate from Cape Town, Dakar, Abuja, Johannesburg, Nairobi and Washington DC.\n",
      "\n",
      "Article 70:\n",
      "Nigeria: MPR Hike Drives Bearish Sentiments in Equity Market AllAfrica is a voice of, by and about Africa - aggregating, producing and distributing 500 news and information items daily from over 100 African news organizations and our own reporters to an African and global public. We operate from Cape Town, Dakar, Abuja, Johannesburg, Nairobi and Washington DC.\n",
      "\n",
      "Article 71:\n",
      "Nigeria: MPR Hike Drives Bearish Sentiments in Equity Market AllAfrica is a voice of, by and about Africa - aggregating, producing and distributing 500 news and information items daily from over 100 African news organizations and our own reporters to an African and global public. We operate from Cape Town, Dakar, Abuja, Johannesburg, Nairobi and Washington DC.\n",
      "\n",
      "Article 72:\n",
      "Nigeria: MPR Hike Drives Bearish Sentiments in Equity Market AllAfrica is a voice of, by and about Africa - aggregating, producing and distributing 500 news and information items daily from over 100 African news organizations and our own reporters to an African and global public. We operate from Cape Town, Dakar, Abuja, Johannesburg, Nairobi and Washington DC.\n",
      "\n",
      "Article 73:\n",
      "Nigeria: MPR Hike Drives Bearish Sentiments in Equity Market AllAfrica is a voice of, by and about Africa - aggregating, producing and distributing 500 news and information items daily from over 100 African news organizations and our own reporters to an African and global public. We operate from Cape Town, Dakar, Abuja, Johannesburg, Nairobi and Washington DC.\n",
      "\n",
      "Article 74:\n",
      "Nigeria: MPR Hike Drives Bearish Sentiments in Equity Market AllAfrica is a voice of, by and about Africa - aggregating, producing and distributing 500 news and information items daily from over 100 African news organizations and our own reporters to an African and global public. We operate from Cape Town, Dakar, Abuja, Johannesburg, Nairobi and Washington DC.\n",
      "\n",
      "Article 75:\n",
      "Nigeria: MPR Hike Drives Bearish Sentiments in Equity Market AllAfrica is a voice of, by and about Africa - aggregating, producing and distributing 500 news and information items daily from over 100 African news organizations and our own reporters to an African and global public. We operate from Cape Town, Dakar, Abuja, Johannesburg, Nairobi and Washington DC.\n",
      "\n",
      "Article 76:\n",
      "Nigeria: MPR Hike Drives Bearish Sentiments in Equity Market AllAfrica is a voice of, by and about Africa - aggregating, producing and distributing 500 news and information items daily from over 100 African news organizations and our own reporters to an African and global public. We operate from Cape Town, Dakar, Abuja, Johannesburg, Nairobi and Washington DC.\n",
      "\n",
      "Article 77:\n",
      "Nigeria: MPR Hike Drives Bearish Sentiments in Equity Market AllAfrica is a voice of, by and about Africa - aggregating, producing and distributing 500 news and information items daily from over 100 African news organizations and our own reporters to an African and global public. We operate from Cape Town, Dakar, Abuja, Johannesburg, Nairobi and Washington DC.\n",
      "\n",
      "Article 78:\n",
      "Nigeria: MPR Hike Drives Bearish Sentiments in Equity Market AllAfrica is a voice of, by and about Africa - aggregating, producing and distributing 500 news and information items daily from over 100 African news organizations and our own reporters to an African and global public. We operate from Cape Town, Dakar, Abuja, Johannesburg, Nairobi and Washington DC.\n",
      "\n",
      "Article 79:\n",
      "Nigeria: MPR Hike Drives Bearish Sentiments in Equity Market Get the latest in African news delivered straight to your inbox\n",
      "\n",
      "Article 80:\n",
      "Nigeria: MPR Hike Drives Bearish Sentiments in Equity Market Get the latest in African news delivered straight to your inbox\n",
      "\n",
      "Article 81:\n",
      "Nigeria: MPR Hike Drives Bearish Sentiments in Equity Market Get the latest in African news delivered straight to your inbox\n",
      "\n",
      "Article 82:\n",
      "Nigeria: MPR Hike Drives Bearish Sentiments in Equity Market Get the latest in African news delivered straight to your inbox\n",
      "\n",
      "Article 83:\n",
      "Nigeria: MPR Hike Drives Bearish Sentiments in Equity Market Get the latest in African news delivered straight to your inbox\n",
      "\n",
      "Article 84:\n",
      "Nigeria: MPR Hike Drives Bearish Sentiments in Equity Market Get the latest in African news delivered straight to your inbox\n",
      "\n",
      "Article 85:\n",
      "Nigeria: MPR Hike Drives Bearish Sentiments in Equity Market Get the latest in African news delivered straight to your inbox\n",
      "\n",
      "Article 86:\n",
      "Nigeria: MPR Hike Drives Bearish Sentiments in Equity Market Get the latest in African news delivered straight to your inbox\n",
      "\n",
      "Article 87:\n",
      "Nigeria: MPR Hike Drives Bearish Sentiments in Equity Market Get the latest in African news delivered straight to your inbox\n",
      "\n",
      "Article 88:\n",
      "Nigeria: MPR Hike Drives Bearish Sentiments in Equity Market By submitting above, you agree toour privacy policy.\n",
      "\n",
      "Article 89:\n",
      "Nigeria: MPR Hike Drives Bearish Sentiments in Equity Market By submitting above, you agree toour privacy policy.\n",
      "\n",
      "Article 90:\n",
      "Nigeria: MPR Hike Drives Bearish Sentiments in Equity Market By submitting above, you agree toour privacy policy.\n",
      "\n",
      "Article 91:\n",
      "Nigeria: MPR Hike Drives Bearish Sentiments in Equity Market By submitting above, you agree toour privacy policy.\n",
      "\n",
      "Article 92:\n",
      "Nigeria: MPR Hike Drives Bearish Sentiments in Equity Market By submitting above, you agree toour privacy policy.\n",
      "\n",
      "Article 93:\n",
      "Nigeria: MPR Hike Drives Bearish Sentiments in Equity Market Almost finished...\n",
      "\n",
      "Article 94:\n",
      "Nigeria: MPR Hike Drives Bearish Sentiments in Equity Market Almost finished...\n",
      "\n",
      "Article 95:\n",
      "Nigeria: MPR Hike Drives Bearish Sentiments in Equity Market Almost finished...\n",
      "\n",
      "Article 96:\n",
      "Nigeria: MPR Hike Drives Bearish Sentiments in Equity Market Almost finished...\n",
      "\n",
      "Article 97:\n",
      "Nigeria: MPR Hike Drives Bearish Sentiments in Equity Market Almost finished...\n",
      "\n",
      "Article 98:\n",
      "Nigeria: MPR Hike Drives Bearish Sentiments in Equity Market There was a problem processing your submission. Please try again later.\n",
      "\n",
      "Article 99:\n",
      "Nigeria: MPR Hike Drives Bearish Sentiments in Equity Market There was a problem processing your submission. Please try again later.\n",
      "\n",
      "Article 100:\n",
      "Nigeria: MPR Hike Drives Bearish Sentiments in Equity Market There was a problem processing your submission. Please try again later.\n",
      "\n",
      "Article 101:\n",
      "Nigeria: MPR Hike Drives Bearish Sentiments in Equity Market There was a problem processing your submission. Please try again later.\n",
      "\n"
     ]
    }
   ],
   "source": [
    "url = 'https://allafrica.com/stories/202409300440.html'\n",
    "articles = news_scrapeper(url)\n",
    "\n",
    "for i, article in enumerate(articles):\n",
    "    print(f\"Article {i+1}:\\n{article}\\n\")"
   ]
  },
  {
   "cell_type": "code",
   "execution_count": 55,
   "id": "ca890408",
   "metadata": {
    "collapsed": true
   },
   "outputs": [
    {
     "name": "stderr",
     "output_type": "stream",
     "text": [
      "[nltk_data] Downloading package punkt to\n",
      "[nltk_data]     C:\\Users\\Ben\\AppData\\Roaming\\nltk_data...\n",
      "[nltk_data]   Package punkt is already up-to-date!\n",
      "[nltk_data] Downloading package stopwords to\n",
      "[nltk_data]     C:\\Users\\Ben\\AppData\\Roaming\\nltk_data...\n",
      "[nltk_data]   Package stopwords is already up-to-date!\n"
     ]
    },
    {
     "name": "stdout",
     "output_type": "stream",
     "text": [
      "Preprocessed Article 1:\n",
      "\n",
      "\n",
      "Preprocessed Article 2:\n",
      "\n",
      "\n",
      "Preprocessed Article 3:\n",
      "\n",
      "\n",
      "Preprocessed Article 4:\n",
      "\n",
      "\n",
      "Preprocessed Article 5:\n",
      "\n",
      "\n",
      "Preprocessed Article 6:\n",
      "\n",
      "\n",
      "Preprocessed Article 7:\n",
      "\n",
      "\n",
      "Preprocessed Article 8:\n",
      "\n",
      "\n",
      "Preprocessed Article 9:\n",
      "\n",
      "\n",
      "Preprocessed Article 10:\n",
      "\n",
      "\n",
      "Preprocessed Article 11:\n",
      "\n",
      "\n",
      "Preprocessed Article 12:\n",
      "\n",
      "\n",
      "Preprocessed Article 13:\n",
      "\n",
      "\n",
      "Preprocessed Article 14:\n",
      "\n",
      "\n",
      "Preprocessed Article 15:\n",
      "\n",
      "\n",
      "Preprocessed Article 16:\n",
      "\n",
      "\n",
      "Preprocessed Article 17:\n",
      "\n",
      "\n",
      "Preprocessed Article 18:\n",
      "nigeria mpr hike drives bearish sentiments equity market bearish sentiments resurfaced nigerian stock market investors reacted hike central bank nigeria cbn monetary policy rate mpr benchmark interest rate lending banks financial institutions\n",
      "\n",
      "Preprocessed Article 19:\n",
      "nigeria mpr hike drives bearish sentiments equity market bearish sentiments resurfaced nigerian stock market investors reacted hike central bank nigeria cbn monetary policy rate mpr benchmark interest rate lending banks financial institutions\n",
      "\n",
      "Preprocessed Article 20:\n",
      "nigeria mpr hike drives bearish sentiments equity market bearish sentiments resurfaced nigerian stock market investors reacted hike central bank nigeria cbn monetary policy rate mpr benchmark interest rate lending banks financial institutions\n",
      "\n",
      "Preprocessed Article 21:\n",
      "nigeria mpr hike drives bearish sentiments equity market bearish sentiments resurfaced nigerian stock market investors reacted hike central bank nigeria cbn monetary policy rate mpr benchmark interest rate lending banks financial institutions\n",
      "\n",
      "Preprocessed Article 22:\n",
      "nigeria mpr hike drives bearish sentiments equity market bearish sentiments resurfaced nigerian stock market investors reacted hike central bank nigeria cbn monetary policy rate mpr benchmark interest rate lending banks financial institutions\n",
      "\n",
      "Preprocessed Article 23:\n",
      "nigeria mpr hike drives bearish sentiments equity market bearish sentiments resurfaced nigerian stock market investors reacted hike central bank nigeria cbn monetary policy rate mpr benchmark interest rate lending banks financial institutions\n",
      "\n",
      "Preprocessed Article 24:\n",
      "nigeria mpr hike drives bearish sentiments equity market bearish sentiments resurfaced nigerian stock market investors reacted hike central bank nigeria cbn monetary policy rate mpr benchmark interest rate lending banks financial institutions\n",
      "\n",
      "Preprocessed Article 25:\n",
      "nigeria mpr hike drives bearish sentiments equity market bearish sentiments resurfaced nigerian stock market investors reacted hike central bank nigeria cbn monetary policy rate mpr benchmark interest rate lending banks financial institutions\n",
      "\n",
      "Preprocessed Article 26:\n",
      "nigeria mpr hike drives bearish sentiments equity market bearish sentiments resurfaced nigerian stock market investors reacted hike central bank nigeria cbn monetary policy rate mpr benchmark interest rate lending banks financial institutions\n",
      "\n",
      "Preprocessed Article 27:\n",
      "nigeria mpr hike drives bearish sentiments equity market bearish sentiments resurfaced nigerian stock market investors reacted hike central bank nigeria cbn monetary policy rate mpr benchmark interest rate lending banks financial institutions\n",
      "\n",
      "Preprocessed Article 28:\n",
      "nigeria mpr hike drives bearish sentiments equity market bearish sentiments resurfaced nigerian stock market investors reacted hike central bank nigeria cbn monetary policy rate mpr benchmark interest rate lending banks financial institutions\n",
      "\n",
      "Preprocessed Article 29:\n",
      "nigeria mpr hike drives bearish sentiments equity market bearish sentiments resurfaced nigerian stock market investors reacted hike central bank nigeria cbn monetary policy rate mpr benchmark interest rate lending banks financial institutions\n",
      "\n",
      "Preprocessed Article 30:\n",
      "nigeria mpr hike drives bearish sentiments equity market bearish sentiments resurfaced nigerian stock market investors reacted hike central bank nigeria cbn monetary policy rate mpr benchmark interest rate lending banks financial institutions\n",
      "\n",
      "Preprocessed Article 31:\n",
      "nigeria mpr hike drives bearish sentiments equity market bearish sentiments resurfaced nigerian stock market investors reacted hike central bank nigeria cbn monetary policy rate mpr benchmark interest rate lending banks financial institutions\n",
      "\n",
      "Preprocessed Article 32:\n",
      "nigeria mpr hike drives bearish sentiments equity market bearish sentiments resurfaced nigerian stock market investors reacted hike central bank nigeria cbn monetary policy rate mpr benchmark interest rate lending banks financial institutions\n",
      "\n",
      "Preprocessed Article 33:\n",
      "nigeria mpr hike drives bearish sentiments equity market bearish sentiments resurfaced nigerian stock market investors reacted hike central bank nigeria cbn monetary policy rate mpr benchmark interest rate lending banks financial institutions\n",
      "\n",
      "Preprocessed Article 34:\n",
      "nigeria mpr hike drives bearish sentiments equity market read theoriginal articleonvanguard\n",
      "\n",
      "Preprocessed Article 35:\n",
      "nigeria mpr hike drives bearish sentiments equity market read theoriginal articleonvanguard\n",
      "\n",
      "Preprocessed Article 36:\n",
      "nigeria mpr hike drives bearish sentiments equity market read theoriginal articleonvanguard\n",
      "\n",
      "Preprocessed Article 37:\n",
      "nigeria mpr hike drives bearish sentiments equity market read theoriginal articleonvanguard\n",
      "\n",
      "Preprocessed Article 38:\n",
      "nigeria mpr hike drives bearish sentiments equity market read theoriginal articleonvanguard\n",
      "\n",
      "Preprocessed Article 39:\n",
      "nigeria mpr hike drives bearish sentiments equity market read theoriginal articleonvanguard\n",
      "\n",
      "Preprocessed Article 40:\n",
      "nigeria mpr hike drives bearish sentiments equity market read theoriginal articleonvanguard\n",
      "\n",
      "Preprocessed Article 41:\n",
      "nigeria mpr hike drives bearish sentiments equity market read theoriginal articleonvanguard\n",
      "\n",
      "Preprocessed Article 42:\n",
      "nigeria mpr hike drives bearish sentiments equity market read theoriginal articleonvanguard\n",
      "\n",
      "Preprocessed Article 43:\n",
      "nigeria mpr hike drives bearish sentiments equity market read theoriginal articleonvanguard\n",
      "\n",
      "Preprocessed Article 44:\n",
      "nigeria mpr hike drives bearish sentiments equity market read theoriginal articleonvanguard\n",
      "\n",
      "Preprocessed Article 45:\n",
      "nigeria mpr hike drives bearish sentiments equity market read theoriginal articleonvanguard\n",
      "\n",
      "Preprocessed Article 46:\n",
      "nigeria mpr hike drives bearish sentiments equity market read theoriginal articleonvanguard\n",
      "\n",
      "Preprocessed Article 47:\n",
      "nigeria mpr hike drives bearish sentiments equity market read theoriginal articleonvanguard\n",
      "\n",
      "Preprocessed Article 48:\n",
      "nigeria mpr hike drives bearish sentiments equity market read theoriginal articleonvanguard\n",
      "\n",
      "Preprocessed Article 49:\n",
      "nigeria mpr hike drives bearish sentiments equity market read theoriginal articleonvanguard\n",
      "\n",
      "Preprocessed Article 50:\n",
      "nigeria mpr hike drives bearish sentiments equity market read theoriginal articleonvanguard\n",
      "\n",
      "Preprocessed Article 51:\n",
      "nigeria mpr hike drives bearish sentiments equity market read theoriginal articleonvanguard\n",
      "\n",
      "Preprocessed Article 52:\n",
      "nigeria mpr hike drives bearish sentiments equity market read theoriginal articleonvanguard\n",
      "\n",
      "Preprocessed Article 53:\n",
      "nigeria mpr hike drives bearish sentiments equity market read theoriginal articleonvanguard\n",
      "\n",
      "Preprocessed Article 54:\n",
      "nigeria mpr hike drives bearish sentiments equity market read theoriginal articleonvanguard\n",
      "\n",
      "Preprocessed Article 55:\n",
      "nigeria mpr hike drives bearish sentiments equity market read theoriginal articleonvanguard\n",
      "\n",
      "Preprocessed Article 56:\n",
      "nigeria mpr hike drives bearish sentiments equity market read theoriginal articleonvanguard\n",
      "\n",
      "Preprocessed Article 57:\n",
      "nigeria mpr hike drives bearish sentiments equity market read theoriginal articleonvanguard\n",
      "\n",
      "Preprocessed Article 58:\n",
      "nigeria mpr hike drives bearish sentiments equity market read theoriginal articleonvanguard\n",
      "\n",
      "Preprocessed Article 59:\n",
      "nigeria mpr hike drives bearish sentiments equity market allafrica publishes around 500 reports day than100 news organizationsand over500 institutions individuals representing diversity positions every topic publish news views ranging vigorous opponents governments government publications spokespersons publishers named report responsible content allafrica legal right edit correct\n",
      "\n",
      "Preprocessed Article 60:\n",
      "nigeria mpr hike drives bearish sentiments equity market allafrica publishes around 500 reports day than100 news organizationsand over500 institutions individuals representing diversity positions every topic publish news views ranging vigorous opponents governments government publications spokespersons publishers named report responsible content allafrica legal right edit correct\n",
      "\n",
      "Preprocessed Article 61:\n",
      "nigeria mpr hike drives bearish sentiments equity market allafrica publishes around 500 reports day than100 news organizationsand over500 institutions individuals representing diversity positions every topic publish news views ranging vigorous opponents governments government publications spokespersons publishers named report responsible content allafrica legal right edit correct\n",
      "\n",
      "Preprocessed Article 62:\n",
      "nigeria mpr hike drives bearish sentiments equity market allafrica publishes around 500 reports day than100 news organizationsand over500 institutions individuals representing diversity positions every topic publish news views ranging vigorous opponents governments government publications spokespersons publishers named report responsible content allafrica legal right edit correct\n",
      "\n",
      "Preprocessed Article 63:\n",
      "nigeria mpr hike drives bearish sentiments equity market allafrica publishes around 500 reports day than100 news organizationsand over500 institutions individuals representing diversity positions every topic publish news views ranging vigorous opponents governments government publications spokespersons publishers named report responsible content allafrica legal right edit correct\n",
      "\n",
      "Preprocessed Article 64:\n",
      "nigeria mpr hike drives bearish sentiments equity market allafrica publishes around 500 reports day than100 news organizationsand over500 institutions individuals representing diversity positions every topic publish news views ranging vigorous opponents governments government publications spokespersons publishers named report responsible content allafrica legal right edit correct\n",
      "\n",
      "Preprocessed Article 65:\n",
      "nigeria mpr hike drives bearish sentiments equity market allafrica publishes around 500 reports day than100 news organizationsand over500 institutions individuals representing diversity positions every topic publish news views ranging vigorous opponents governments government publications spokespersons publishers named report responsible content allafrica legal right edit correct\n",
      "\n",
      "Preprocessed Article 66:\n",
      "nigeria mpr hike drives bearish sentiments equity market allafrica voice africa aggregating producing distributing 500 news information items daily 100 african news organizations reporters african global public operate cape town dakar abuja johannesburg nairobi washington dc\n",
      "\n",
      "Preprocessed Article 67:\n",
      "nigeria mpr hike drives bearish sentiments equity market allafrica voice africa aggregating producing distributing 500 news information items daily 100 african news organizations reporters african global public operate cape town dakar abuja johannesburg nairobi washington dc\n",
      "\n",
      "Preprocessed Article 68:\n",
      "nigeria mpr hike drives bearish sentiments equity market allafrica voice africa aggregating producing distributing 500 news information items daily 100 african news organizations reporters african global public operate cape town dakar abuja johannesburg nairobi washington dc\n",
      "\n",
      "Preprocessed Article 69:\n",
      "nigeria mpr hike drives bearish sentiments equity market allafrica voice africa aggregating producing distributing 500 news information items daily 100 african news organizations reporters african global public operate cape town dakar abuja johannesburg nairobi washington dc\n",
      "\n",
      "Preprocessed Article 70:\n",
      "nigeria mpr hike drives bearish sentiments equity market allafrica voice africa aggregating producing distributing 500 news information items daily 100 african news organizations reporters african global public operate cape town dakar abuja johannesburg nairobi washington dc\n",
      "\n",
      "Preprocessed Article 71:\n",
      "nigeria mpr hike drives bearish sentiments equity market allafrica voice africa aggregating producing distributing 500 news information items daily 100 african news organizations reporters african global public operate cape town dakar abuja johannesburg nairobi washington dc\n",
      "\n",
      "Preprocessed Article 72:\n",
      "nigeria mpr hike drives bearish sentiments equity market allafrica voice africa aggregating producing distributing 500 news information items daily 100 african news organizations reporters african global public operate cape town dakar abuja johannesburg nairobi washington dc\n",
      "\n",
      "Preprocessed Article 73:\n",
      "nigeria mpr hike drives bearish sentiments equity market allafrica voice africa aggregating producing distributing 500 news information items daily 100 african news organizations reporters african global public operate cape town dakar abuja johannesburg nairobi washington dc\n",
      "\n",
      "Preprocessed Article 74:\n",
      "nigeria mpr hike drives bearish sentiments equity market allafrica voice africa aggregating producing distributing 500 news information items daily 100 african news organizations reporters african global public operate cape town dakar abuja johannesburg nairobi washington dc\n",
      "\n",
      "Preprocessed Article 75:\n",
      "nigeria mpr hike drives bearish sentiments equity market allafrica voice africa aggregating producing distributing 500 news information items daily 100 african news organizations reporters african global public operate cape town dakar abuja johannesburg nairobi washington dc\n",
      "\n",
      "Preprocessed Article 76:\n",
      "nigeria mpr hike drives bearish sentiments equity market allafrica voice africa aggregating producing distributing 500 news information items daily 100 african news organizations reporters african global public operate cape town dakar abuja johannesburg nairobi washington dc\n",
      "\n",
      "Preprocessed Article 77:\n",
      "nigeria mpr hike drives bearish sentiments equity market allafrica voice africa aggregating producing distributing 500 news information items daily 100 african news organizations reporters african global public operate cape town dakar abuja johannesburg nairobi washington dc\n",
      "\n",
      "Preprocessed Article 78:\n",
      "nigeria mpr hike drives bearish sentiments equity market allafrica voice africa aggregating producing distributing 500 news information items daily 100 african news organizations reporters african global public operate cape town dakar abuja johannesburg nairobi washington dc\n",
      "\n",
      "Preprocessed Article 79:\n",
      "nigeria mpr hike drives bearish sentiments equity market get latest african news delivered straight inbox\n",
      "\n",
      "Preprocessed Article 80:\n",
      "nigeria mpr hike drives bearish sentiments equity market get latest african news delivered straight inbox\n",
      "\n",
      "Preprocessed Article 81:\n",
      "nigeria mpr hike drives bearish sentiments equity market get latest african news delivered straight inbox\n",
      "\n",
      "Preprocessed Article 82:\n",
      "nigeria mpr hike drives bearish sentiments equity market get latest african news delivered straight inbox\n",
      "\n",
      "Preprocessed Article 83:\n",
      "nigeria mpr hike drives bearish sentiments equity market get latest african news delivered straight inbox\n",
      "\n",
      "Preprocessed Article 84:\n",
      "nigeria mpr hike drives bearish sentiments equity market get latest african news delivered straight inbox\n",
      "\n",
      "Preprocessed Article 85:\n",
      "nigeria mpr hike drives bearish sentiments equity market get latest african news delivered straight inbox\n",
      "\n",
      "Preprocessed Article 86:\n",
      "nigeria mpr hike drives bearish sentiments equity market get latest african news delivered straight inbox\n",
      "\n",
      "Preprocessed Article 87:\n",
      "nigeria mpr hike drives bearish sentiments equity market get latest african news delivered straight inbox\n",
      "\n",
      "Preprocessed Article 88:\n",
      "nigeria mpr hike drives bearish sentiments equity market submitting agree toour privacy policy\n",
      "\n",
      "Preprocessed Article 89:\n",
      "nigeria mpr hike drives bearish sentiments equity market submitting agree toour privacy policy\n",
      "\n",
      "Preprocessed Article 90:\n",
      "nigeria mpr hike drives bearish sentiments equity market submitting agree toour privacy policy\n",
      "\n",
      "Preprocessed Article 91:\n",
      "nigeria mpr hike drives bearish sentiments equity market submitting agree toour privacy policy\n",
      "\n",
      "Preprocessed Article 92:\n",
      "nigeria mpr hike drives bearish sentiments equity market submitting agree toour privacy policy\n",
      "\n",
      "Preprocessed Article 93:\n",
      "nigeria mpr hike drives bearish sentiments equity market almost finished\n",
      "\n",
      "Preprocessed Article 94:\n",
      "nigeria mpr hike drives bearish sentiments equity market almost finished\n",
      "\n",
      "Preprocessed Article 95:\n",
      "nigeria mpr hike drives bearish sentiments equity market almost finished\n",
      "\n",
      "Preprocessed Article 96:\n",
      "nigeria mpr hike drives bearish sentiments equity market almost finished\n",
      "\n",
      "Preprocessed Article 97:\n",
      "nigeria mpr hike drives bearish sentiments equity market almost finished\n",
      "\n",
      "Preprocessed Article 98:\n",
      "nigeria mpr hike drives bearish sentiments equity market problem processing submission please try later\n",
      "\n",
      "Preprocessed Article 99:\n",
      "nigeria mpr hike drives bearish sentiments equity market problem processing submission please try later\n",
      "\n",
      "Preprocessed Article 100:\n",
      "nigeria mpr hike drives bearish sentiments equity market problem processing submission please try later\n",
      "\n",
      "Preprocessed Article 101:\n",
      "nigeria mpr hike drives bearish sentiments equity market problem processing submission please try later\n",
      "\n"
     ]
    }
   ],
   "source": [
    "nltk.download('punkt')\n",
    "nltk.download('stopwords')\n",
    "\n",
    "def preprocess_text(text):\n",
    "    tokens = word_tokenize(text.lower())\n",
    "\n",
    "    stop_words = set(stopwords.words('english'))\n",
    "    tokens = [word for word in tokens if word.isalnum() and word not in stop_words]\n",
    "    \n",
    "    return ' '.join(tokens)\n",
    "\n",
    "preprocessed_articles = [preprocess_text(article) for article in articles]\n",
    "\n",
    "for i, article in enumerate(preprocessed_articles):\n",
    "    print(f\"Preprocessed Article {i+1}:\\n{article}\\n\")"
   ]
  },
  {
   "cell_type": "code",
   "execution_count": 108,
   "id": "ebc7aa88",
   "metadata": {},
   "outputs": [
    {
     "name": "stdout",
     "output_type": "stream",
     "text": [
      "Prediction: Crypto\n"
     ]
    }
   ],
   "source": [
    "label = {\n",
    "    0: 'Crypto',\n",
    "    1: 'Stocks', \n",
    "    2: 'Others'    \n",
    "}\n",
    "\n",
    "X = vect.transform(preprocessed_articles)\n",
    "print(f'Prediction: {label[ensemble_classifier.predict(X)[0]]}' )"
   ]
  },
  {
   "cell_type": "code",
   "execution_count": 109,
   "id": "31aa6b94",
   "metadata": {},
   "outputs": [
    {
     "name": "stdout",
     "output_type": "stream",
     "text": [
      "Prediction: Stocks\n"
     ]
    }
   ],
   "source": [
    "X = vect.transform(preprocessed_articles)\n",
    "print(f'Prediction: {label[knn_clf.predict(X)[0]]}' )"
   ]
  },
  {
   "cell_type": "code",
   "execution_count": 110,
   "id": "47bb4482",
   "metadata": {},
   "outputs": [
    {
     "name": "stdout",
     "output_type": "stream",
     "text": [
      "Prediction: Crypto\n"
     ]
    }
   ],
   "source": [
    "X = vect.transform(preprocessed_articles)\n",
    "print(f'Prediction: {label[svm_clf.predict(X)[0]]}' )"
   ]
  },
  {
   "cell_type": "code",
   "execution_count": 111,
   "id": "9e754964",
   "metadata": {},
   "outputs": [
    {
     "name": "stdout",
     "output_type": "stream",
     "text": [
      "Prediction: Others\n"
     ]
    }
   ],
   "source": [
    "X = vect.transform(preprocessed_articles)\n",
    "print(f'Prediction: {label[tree_clf.predict(X)[0]]}' )"
   ]
  },
  {
   "cell_type": "code",
   "execution_count": 113,
   "id": "1409652d",
   "metadata": {},
   "outputs": [],
   "source": [
    "url = 'https://cryptopotato.com/robinhood-expands-services-crypto-transfers-now-available-in-europe/'\n",
    "articles = news_scrapeper(url)\n",
    "\n",
    "preprocessed_articles = [preprocess_text(article) for article in articles]"
   ]
  },
  {
   "cell_type": "code",
   "execution_count": 114,
   "id": "9c67e47d",
   "metadata": {},
   "outputs": [
    {
     "name": "stdout",
     "output_type": "stream",
     "text": [
      "Prediction: Crypto\n"
     ]
    }
   ],
   "source": [
    "X = vect.transform(preprocessed_articles)\n",
    "print(f'Prediction: {label[ensemble_classifier.predict(X)[0]]}' )"
   ]
  },
  {
   "cell_type": "code",
   "execution_count": 115,
   "id": "954d3d48",
   "metadata": {},
   "outputs": [
    {
     "name": "stdout",
     "output_type": "stream",
     "text": [
      "Prediction: Crypto\n"
     ]
    }
   ],
   "source": [
    "X = vect.transform(preprocessed_articles)\n",
    "print(f'Prediction: {label[knn_clf.predict(X)[0]]}' )"
   ]
  },
  {
   "cell_type": "code",
   "execution_count": 116,
   "id": "a14e1ed8",
   "metadata": {},
   "outputs": [
    {
     "name": "stdout",
     "output_type": "stream",
     "text": [
      "Prediction: Others\n"
     ]
    }
   ],
   "source": [
    "X = vect.transform(preprocessed_articles)\n",
    "print(f'Prediction: {label[tree_clf.predict(X)[0]]}' )"
   ]
  },
  {
   "cell_type": "code",
   "execution_count": 117,
   "id": "787bb7b2",
   "metadata": {},
   "outputs": [
    {
     "name": "stdout",
     "output_type": "stream",
     "text": [
      "Prediction: Crypto\n"
     ]
    }
   ],
   "source": [
    "X = vect.transform(preprocessed_articles)\n",
    "print(f'Prediction: {label[svm_clf.predict(X)[0]]}' )"
   ]
  },
  {
   "cell_type": "code",
   "execution_count": null,
   "id": "bbb21809",
   "metadata": {},
   "outputs": [],
   "source": []
  }
 ],
 "metadata": {
  "kernelspec": {
   "display_name": "Python 3",
   "language": "python",
   "name": "python3"
  },
  "language_info": {
   "codemirror_mode": {
    "name": "ipython",
    "version": 3
   },
   "file_extension": ".py",
   "mimetype": "text/x-python",
   "name": "python",
   "nbconvert_exporter": "python",
   "pygments_lexer": "ipython3",
   "version": "3.8.8"
  }
 },
 "nbformat": 4,
 "nbformat_minor": 5
}
